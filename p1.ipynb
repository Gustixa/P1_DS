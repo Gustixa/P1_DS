{
 "cells": [
  {
   "cell_type": "code",
   "execution_count": 8,
   "id": "ced42b40-74c7-4952-9288-c80d79db1d0a",
   "metadata": {},
   "outputs": [],
   "source": [
    "import pandas as pd\n",
    "import numpy as np\n",
    "import matplotlib.pyplot as plt\n",
    "import os"
   ]
  },
  {
   "cell_type": "code",
   "execution_count": 9,
   "id": "2eb4e79d-3c7d-4eef-a905-f1a9124d8265",
   "metadata": {},
   "outputs": [],
   "source": [
    "directorio = \"./docs/\""
   ]
  },
  {
   "cell_type": "code",
   "execution_count": 10,
   "id": "958fd49c-1aa7-4d07-bc73-4b91decafee8",
   "metadata": {},
   "outputs": [
    {
     "name": "stdout",
     "output_type": "stream",
     "text": [
      "¡Archivos CSV combinados y limpios exitosamente!\n"
     ]
    }
   ],
   "source": [
    "# Initialize an empty list to hold dataframes\n",
    "dataframes = []\n",
    "\n",
    "# Recorre todos los archivos en el directorio\n",
    "for filename in os.listdir(directorio):\n",
    "    if filename.endswith(\".csv\"):\n",
    "        filepath = os.path.join(directorio, filename)\n",
    "        # Lee cada archivo CSV omitiendo la primera fila\n",
    "        df = pd.read_csv(filepath, skiprows=1)\n",
    "        # Elimina columnas \"Unnamed\"\n",
    "        df = df.loc[:, ~df.columns.str.contains('^Unnamed')]\n",
    "        # Agrega el dataframe a la lista\n",
    "        dataframes.append(df)\n",
    "\n",
    "# Concatena todos los dataframes en uno solo\n",
    "combined_df = pd.concat(dataframes, ignore_index=True)\n",
    "\n",
    "# Guarda el dataframe combinado en un nuevo archivo CSV\n",
    "combined_df.to_csv('dataset.csv', index=False)\n",
    "\n",
    "print(\"¡Archivos CSV combinados y limpios exitosamente!\")"
   ]
  },
  {
   "cell_type": "code",
   "execution_count": 11,
   "id": "a4dbe086-b9b2-43f8-ace8-fdffc0b32454",
   "metadata": {},
   "outputs": [
    {
     "data": {
      "text/html": [
       "<div>\n",
       "<style scoped>\n",
       "    .dataframe tbody tr th:only-of-type {\n",
       "        vertical-align: middle;\n",
       "    }\n",
       "\n",
       "    .dataframe tbody tr th {\n",
       "        vertical-align: top;\n",
       "    }\n",
       "\n",
       "    .dataframe thead th {\n",
       "        text-align: right;\n",
       "    }\n",
       "</style>\n",
       "<table border=\"1\" class=\"dataframe\">\n",
       "  <thead>\n",
       "    <tr style=\"text-align: right;\">\n",
       "      <th></th>\n",
       "      <th>CODIGO</th>\n",
       "      <th>DISTRITO</th>\n",
       "      <th>DEPARTAMENTO</th>\n",
       "      <th>MUNICIPIO</th>\n",
       "      <th>ESTABLECIMIENTO</th>\n",
       "      <th>DIRECCION</th>\n",
       "      <th>TELEFONO</th>\n",
       "      <th>SUPERVISOR</th>\n",
       "      <th>DIRECTOR</th>\n",
       "      <th>NIVEL</th>\n",
       "      <th>SECTOR</th>\n",
       "      <th>AREA</th>\n",
       "      <th>STATUS</th>\n",
       "      <th>MODALIDAD</th>\n",
       "      <th>JORNADA</th>\n",
       "      <th>PLAN</th>\n",
       "      <th>DEPARTAMENTAL</th>\n",
       "    </tr>\n",
       "  </thead>\n",
       "  <tbody>\n",
       "    <tr>\n",
       "      <th>0</th>\n",
       "      <td>16-01-0138-46</td>\n",
       "      <td>16-031</td>\n",
       "      <td>ALTA VERAPAZ</td>\n",
       "      <td>COBAN</td>\n",
       "      <td>COLEGIO COBAN</td>\n",
       "      <td>KM.2 SALIDA A SAN JUAN CHAMELCO ZONA 8</td>\n",
       "      <td>77945104</td>\n",
       "      <td>MERCEDES JOSEFINA TORRES GALVEZ</td>\n",
       "      <td>GUSTAVO ADOLFO SIERRA POP</td>\n",
       "      <td>DIVERSIFICADO</td>\n",
       "      <td>PRIVADO</td>\n",
       "      <td>URBANA</td>\n",
       "      <td>ABIERTA</td>\n",
       "      <td>MONOLINGUE</td>\n",
       "      <td>MATUTINA</td>\n",
       "      <td>DIARIO(REGULAR)</td>\n",
       "      <td>ALTA VERAPAZ</td>\n",
       "    </tr>\n",
       "    <tr>\n",
       "      <th>1</th>\n",
       "      <td>16-01-0139-46</td>\n",
       "      <td>16-031</td>\n",
       "      <td>ALTA VERAPAZ</td>\n",
       "      <td>COBAN</td>\n",
       "      <td>COLEGIO PARTICULAR MIXTO VERAPAZ</td>\n",
       "      <td>KM 209.5 ENTRADA A LA CIUDAD</td>\n",
       "      <td>77367402</td>\n",
       "      <td>MERCEDES JOSEFINA TORRES GALVEZ</td>\n",
       "      <td>GILMA DOLORES GUAY PAZ DE LEAL</td>\n",
       "      <td>DIVERSIFICADO</td>\n",
       "      <td>PRIVADO</td>\n",
       "      <td>URBANA</td>\n",
       "      <td>ABIERTA</td>\n",
       "      <td>MONOLINGUE</td>\n",
       "      <td>MATUTINA</td>\n",
       "      <td>DIARIO(REGULAR)</td>\n",
       "      <td>ALTA VERAPAZ</td>\n",
       "    </tr>\n",
       "    <tr>\n",
       "      <th>2</th>\n",
       "      <td>16-01-0140-46</td>\n",
       "      <td>16-031</td>\n",
       "      <td>ALTA VERAPAZ</td>\n",
       "      <td>COBAN</td>\n",
       "      <td>COLEGIO \"LA INMACULADA\"</td>\n",
       "      <td>7A. AVENIDA 11-109 ZONA 6</td>\n",
       "      <td>78232301</td>\n",
       "      <td>MERCEDES JOSEFINA TORRES GALVEZ</td>\n",
       "      <td>VIRGINIA SOLANO SERRANO</td>\n",
       "      <td>DIVERSIFICADO</td>\n",
       "      <td>PRIVADO</td>\n",
       "      <td>URBANA</td>\n",
       "      <td>ABIERTA</td>\n",
       "      <td>MONOLINGUE</td>\n",
       "      <td>MATUTINA</td>\n",
       "      <td>DIARIO(REGULAR)</td>\n",
       "      <td>ALTA VERAPAZ</td>\n",
       "    </tr>\n",
       "  </tbody>\n",
       "</table>\n",
       "</div>"
      ],
      "text/plain": [
       "          CODIGO DISTRITO  DEPARTAMENTO MUNICIPIO  \\\n",
       "0  16-01-0138-46   16-031  ALTA VERAPAZ     COBAN   \n",
       "1  16-01-0139-46   16-031  ALTA VERAPAZ     COBAN   \n",
       "2  16-01-0140-46   16-031  ALTA VERAPAZ     COBAN   \n",
       "\n",
       "                    ESTABLECIMIENTO                               DIRECCION  \\\n",
       "0                     COLEGIO COBAN  KM.2 SALIDA A SAN JUAN CHAMELCO ZONA 8   \n",
       "1  COLEGIO PARTICULAR MIXTO VERAPAZ            KM 209.5 ENTRADA A LA CIUDAD   \n",
       "2           COLEGIO \"LA INMACULADA\"               7A. AVENIDA 11-109 ZONA 6   \n",
       "\n",
       "   TELEFONO                       SUPERVISOR                        DIRECTOR  \\\n",
       "0  77945104  MERCEDES JOSEFINA TORRES GALVEZ       GUSTAVO ADOLFO SIERRA POP   \n",
       "1  77367402  MERCEDES JOSEFINA TORRES GALVEZ  GILMA DOLORES GUAY PAZ DE LEAL   \n",
       "2  78232301  MERCEDES JOSEFINA TORRES GALVEZ         VIRGINIA SOLANO SERRANO   \n",
       "\n",
       "           NIVEL   SECTOR    AREA   STATUS   MODALIDAD   JORNADA  \\\n",
       "0  DIVERSIFICADO  PRIVADO  URBANA  ABIERTA  MONOLINGUE  MATUTINA   \n",
       "1  DIVERSIFICADO  PRIVADO  URBANA  ABIERTA  MONOLINGUE  MATUTINA   \n",
       "2  DIVERSIFICADO  PRIVADO  URBANA  ABIERTA  MONOLINGUE  MATUTINA   \n",
       "\n",
       "              PLAN DEPARTAMENTAL  \n",
       "0  DIARIO(REGULAR)  ALTA VERAPAZ  \n",
       "1  DIARIO(REGULAR)  ALTA VERAPAZ  \n",
       "2  DIARIO(REGULAR)  ALTA VERAPAZ  "
      ]
     },
     "execution_count": 11,
     "metadata": {},
     "output_type": "execute_result"
    }
   ],
   "source": [
    "df = pd.read_csv(\"dataset.csv\")\n",
    "df.head(3)"
   ]
  },
  {
   "cell_type": "code",
   "execution_count": 12,
   "id": "898ecc40-b87d-4884-8278-be762ec69be9",
   "metadata": {},
   "outputs": [
    {
     "name": "stdout",
     "output_type": "stream",
     "text": [
      "24 : ['ALTA VERAPAZ', nan, 'BAJA VERAPAZ', 'CHIMALTENANGO', 'CHIQUIMULA', 'CIUDAD CAPITAL', 'EL PROGRESO', 'ESCUINTLA', 'GUATEMALA', 'HUEHUETENANGO', 'IZABAL', 'JALAPA', 'JUTIAPA', 'PETEN', 'QUETZALTENANGO', 'QUICHE', 'RETALHULEU', 'SACATEPEQUEZ', 'SAN MARCOS', 'SANTA ROSA', 'SOLOLA', 'SUCHITEPEQUEZ', 'TOTONICAPAN', 'ZACAPA']\n"
     ]
    }
   ],
   "source": [
    "deptos = df['DEPARTAMENTO']\n",
    "deptos = list(dict.fromkeys(deptos))\n",
    "print(f\"{len(deptos)} : {deptos}\")"
   ]
  },
  {
   "cell_type": "code",
   "execution_count": 13,
   "id": "1db3094a-d9d5-41e1-b742-615c446bec75",
   "metadata": {},
   "outputs": [
    {
     "name": "stdout",
     "output_type": "stream",
     "text": [
      "El archivo 'AltaVerapaz.csv' tiene 377 filas (excluyendo encabezados).\n",
      "El archivo 'BajaVerapaz.csv' tiene 117 filas (excluyendo encabezados).\n",
      "El archivo 'Chimaltenango.csv' tiene 362 filas (excluyendo encabezados).\n",
      "El archivo 'Chiquimula.csv' tiene 173 filas (excluyendo encabezados).\n",
      "El archivo 'CiudadCapital.csv' tiene 1567 filas (excluyendo encabezados).\n",
      "El archivo 'ElProgreso.csv' tiene 128 filas (excluyendo encabezados).\n",
      "El archivo 'Escuintla.csv' tiene 631 filas (excluyendo encabezados).\n",
      "El archivo 'Guatemala.csv' tiene 1480 filas (excluyendo encabezados).\n",
      "El archivo 'Huehuetenango.csv' tiene 519 filas (excluyendo encabezados).\n",
      "El archivo 'Izabal.csv' tiene 371 filas (excluyendo encabezados).\n",
      "El archivo 'Jalapa.csv' tiene 154 filas (excluyendo encabezados).\n",
      "El archivo 'Jutiapa.csv' tiene 313 filas (excluyendo encabezados).\n",
      "El archivo 'Peten.csv' tiene 369 filas (excluyendo encabezados).\n",
      "El archivo 'Quetzaltenango.csv' tiene 494 filas (excluyendo encabezados).\n",
      "El archivo 'Quiche.csv' tiene 247 filas (excluyendo encabezados).\n",
      "El archivo 'Retalhuleu.csv' tiene 319 filas (excluyendo encabezados).\n",
      "El archivo 'Sacatepequez.csv' tiene 322 filas (excluyendo encabezados).\n",
      "El archivo 'San Marcos.csv' tiene 577 filas (excluyendo encabezados).\n",
      "El archivo 'Santa Rosa.csv' tiene 161 filas (excluyendo encabezados).\n",
      "El archivo 'Solola.csv' tiene 141 filas (excluyendo encabezados).\n",
      "El archivo 'Suchitepequez.csv' tiene 388 filas (excluyendo encabezados).\n",
      "El archivo 'Totonicapan.csv' tiene 93 filas (excluyendo encabezados).\n",
      "El archivo 'Zacapa.csv' tiene 97 filas (excluyendo encabezados).\n",
      "¡Conteo de filas completado exitosamente!\n"
     ]
    }
   ],
   "source": [
    "# Inicializa un diccionario para almacenar el conteo de filas de cada archivo\n",
    "file_row_counts = {}\n",
    "\n",
    "# Recorre todos los archivos en el directorio\n",
    "for filename in os.listdir(directorio):\n",
    "    if filename.endswith(\".csv\"):\n",
    "        filepath = os.path.join(directorio, filename)\n",
    "        # Lee cada archivo CSV omitiendo la primera fila\n",
    "        df = pd.read_csv(filepath, skiprows=1)\n",
    "        # Elimina columnas \"Unnamed\"\n",
    "        df = df.loc[:, ~df.columns.str.contains('^Unnamed')]\n",
    "        # Cuenta el número de filas y almacena el resultado en el diccionario\n",
    "        file_row_counts[filename] = df.shape[0]\n",
    "\n",
    "# Imprime el conteo de filas de cada archivo\n",
    "for filename, row_count in file_row_counts.items():\n",
    "    print(f\"El archivo '{filename}' tiene {row_count} filas (excluyendo encabezados).\")\n",
    "\n",
    "print(\"¡Conteo de filas completado exitosamente!\")"
   ]
  },
  {
   "cell_type": "code",
   "execution_count": null,
   "id": "98afed95-1e79-4cc0-a02e-d0dc5ec31ebe",
   "metadata": {},
   "outputs": [],
   "source": []
  }
 ],
 "metadata": {
  "kernelspec": {
   "display_name": "Python 3 (ipykernel)",
   "language": "python",
   "name": "python3"
  },
  "language_info": {
   "codemirror_mode": {
    "name": "ipython",
    "version": 3
   },
   "file_extension": ".py",
   "mimetype": "text/x-python",
   "name": "python",
   "nbconvert_exporter": "python",
   "pygments_lexer": "ipython3",
   "version": "3.11.2"
  }
 },
 "nbformat": 4,
 "nbformat_minor": 5
}
